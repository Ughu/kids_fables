{
 "cells": [
  {
   "cell_type": "code",
   "execution_count": 3,
   "id": "23a6182c",
   "metadata": {},
   "outputs": [],
   "source": [
    "import openai\n",
    "from dotenv import load_dotenv\n",
    "import os"
   ]
  },
  {
   "cell_type": "code",
   "execution_count": 4,
   "id": "0c22504c",
   "metadata": {},
   "outputs": [],
   "source": [
    "apikey = load_dotenv()\n",
    "openai.api_key = os.getenv('openai_api_key')"
   ]
  },
  {
   "cell_type": "code",
   "execution_count": 19,
   "id": "e27c3bbf",
   "metadata": {},
   "outputs": [],
   "source": [
    "prompt = input(\"Choose words at random and I'll do my best to tell you a tale\")"
   ]
  },
  {
   "cell_type": "code",
   "execution_count": 20,
   "id": "17f90462",
   "metadata": {},
   "outputs": [
    {
     "name": "stdout",
     "output_type": "stream",
     "text": [
      "Once upon a time, in a forest far away, there lived a clown bat named Berry. Berry was known in the forest for being always happy and making others laugh. He loved to perform tricks and acrobatics to entertain his friends.\n",
      "\n",
      "One day, while Berry was practicing his juggling, he met a shy and timid fox. The fox was too afraid to play with the other animals in the forest and felt left out. Berry noticed how much the fox wanted to join in on the fun, so he decided to teach her a few tricks. Berry showed the fox how to juggle, balance on a tightrope, and even perform a backflip.\n",
      "\n",
      "As they practiced together, Berry realized that the fox had a talent for performing too, and she was actually pretty good at it! Together, they put on a small show for their friends, and everyone was impressed by the fox’s skills.\n",
      "\n",
      "The message of this story is that everyone has their own unique talents and skills. Sometimes all we need is a little bit of encouragement and help to bring them out. It’s important to look past our differences and find ways to work together and support one another. Like Berry and the shy fox, we can all become better together.\n",
      "\n",
      "That wonderfull tale just costed you: 0.0005600000000000001 US dollars\n"
     ]
    }
   ],
   "source": [
    "response = openai.ChatCompletion.create(\n",
    "    model='gpt-3.5-turbo',\n",
    "    messages =[{'role': 'system', 'content': 'You tell stories for children. The stories you tell must have a message.'},\n",
    "               {'role': 'user', 'content': prompt}])\n",
    "\n",
    "print(response.choices[0].message.content)\n",
    "print(f'\\nThat wonderfull tale just costed you: '+str(int(response.usage.total_tokens)*0.002/1000)+' US dollars')"
   ]
  },
  {
   "cell_type": "code",
   "execution_count": 48,
   "id": "2f7a5009",
   "metadata": {},
   "outputs": [
    {
     "name": "stdout",
     "output_type": "stream",
     "text": [
      "Once upon a time, there was a little girl named Lily. Lily loved exploring the world around her and discovering new things. One day, as she was walking in the park, it suddenly started to rain.\n",
      "\n",
      "At first, Lily was a bit sad because she did not want to get wet. But then she realized that the rain was actually quite beautiful. She watched as the droplets fell from the sky, making patterns on the ground, and the leaves on the trees glistened with the moisture.\n",
      "\n",
      "As she walked home, she noticed a sweet smell in the air. It was the aroma of lavender, a type of plant that grows in gardens. She followed her nose and stumbled upon a field of lavender, filled with purple flowers that stretched as far as the eyes could see.\n",
      "\n",
      "Lily picked a few bunches of lavender and took them home. She placed them in a vase and let their sweet fragrance fill her room. It made her happy and calm, just like the rain had.\n",
      "\n",
      "The next day, her mother took her to the store to buy new shoes. Lily was so excited to get a new pair, but she could not decide which one to choose. She tried on so many different pairs, but none of them felt quite right.\n",
      "\n",
      "When they left the store, her mom surprised her with a visit to the ice cream parlor. It was a treat that Lily had been looking forward to all day. She chose her favorite flavor, double chocolate, and savored every bite.\n",
      "\n",
      "As Lily walked home, she realized that even though she did not get the shoes that she wanted, it didn't matter. She had enjoyed the rain, discovered a field of lavender, and had a delicious ice cream treat. Everything was just perfect the way it was.\n",
      "\n",
      "From that day on, Lily knew that every moment could be as wonderful as the rain, as sweet as lavender, and as satisfying as ice cream. All it took was a little bit of imagination and appreciation for the small things in life.\n"
     ]
    }
   ],
   "source": [
    "print(response['choices'][0]['message']['content'])"
   ]
  },
  {
   "cell_type": "code",
   "execution_count": 9,
   "id": "c6f80152",
   "metadata": {},
   "outputs": [
    {
     "data": {
      "text/plain": [
       "<OpenAIObject chat.completion id=chatcmpl-6rqkLnNWy9vuVovTqXbPRKTQhu7CR at 0x7fdb23188450> JSON: {\n",
       "  \"choices\": [\n",
       "    {\n",
       "      \"finish_reason\": \"stop\",\n",
       "      \"index\": 0,\n",
       "      \"message\": {\n",
       "        \"content\": \"Once upon a time, there was a young bamboo tree. It lived in a vast forest with all its bamboo friends. Despite the bamboo tree's small size, it dreamed of greatness. It longed to soar high above the forest canopy and touch the sky.\\n\\nOne day, a group of gnomes stumbled across the forest seeking shelter. They noticed the young bamboo tree and took a liking to it. They shared their wisdom with the bamboo and told it to be patient, as great things come to those who wait.\\n\\nThe bamboo tree listened, and with time, it began to grow taller and stronger. Soon, it towered above all the other plants in the forest, and its dream had become a reality.\\n\\nAs the bamboo had grown, it had developed a talent for crafting hunting arrows from its sturdy stems. A group of hunters took note of this talent and requested the bamboo's help in crafting some arrows for them.\\n\\nThe bamboo tree agreed, but in exchange, it requested the hunters to use their arrows only for essential hunting and never for unnecessary killings.\\n\\nThe hunters agreed, and together they found an understanding to protect the surrounding environment and only take what they need to survive.\\n\\nAs time passed, the hunters returned to the forest to thank the Bamboo for the lesson and gifted it some gold. The bamboo realized that it was never too small to make a big impact.\\n\\nMoral of the story: No matter how small or big you are, the actions you take can make a significant impact on the world around you.\",\n",
       "        \"role\": \"assistant\"\n",
       "      }\n",
       "    }\n",
       "  ],\n",
       "  \"created\": 1678292161,\n",
       "  \"id\": \"chatcmpl-6rqkLnNWy9vuVovTqXbPRKTQhu7CR\",\n",
       "  \"model\": \"gpt-3.5-turbo-0301\",\n",
       "  \"object\": \"chat.completion\",\n",
       "  \"usage\": {\n",
       "    \"completion_tokens\": 306,\n",
       "    \"prompt_tokens\": 40,\n",
       "    \"total_tokens\": 346\n",
       "  }\n",
       "}"
      ]
     },
     "execution_count": 9,
     "metadata": {},
     "output_type": "execute_result"
    }
   ],
   "source": [
    "response"
   ]
  },
  {
   "cell_type": "code",
   "execution_count": 16,
   "id": "e72b1db2",
   "metadata": {},
   "outputs": [],
   "source": [
    "def soma(x,y):\n",
    "    x=x\n",
    "    y=y\n",
    "    return(x+y)"
   ]
  },
  {
   "cell_type": "code",
   "execution_count": 18,
   "id": "e29afbb8",
   "metadata": {},
   "outputs": [
    {
     "data": {
      "text/plain": [
       "10"
      ]
     },
     "execution_count": 18,
     "metadata": {},
     "output_type": "execute_result"
    }
   ],
   "source": [
    "soma(9,1)"
   ]
  },
  {
   "cell_type": "code",
   "execution_count": 24,
   "id": "8881a771",
   "metadata": {},
   "outputs": [
    {
     "name": "stdout",
     "output_type": "stream",
     "text": [
      "h\n",
      "e\n",
      "l\n",
      "l\n",
      "o\n",
      " \n",
      "w\n",
      "o\n",
      "r\n",
      "l\n",
      "d\n"
     ]
    }
   ],
   "source": [
    "import time\n",
    "string = 'hello world'\n",
    "for char in string:\n",
    "    print(char)\n",
    "    time.sleep(.25)"
   ]
  },
  {
   "cell_type": "code",
   "execution_count": 26,
   "id": "c11e934c",
   "metadata": {},
   "outputs": [
    {
     "name": "stdout",
     "output_type": "stream",
     "text": [
      "hello world"
     ]
    }
   ],
   "source": [
    "import time\n",
    "import sys\n",
    "\n",
    "def delay_print(s):\n",
    "    for c in s:\n",
    "        sys.stdout.write(c)\n",
    "        sys.stdout.flush()\n",
    "        time.sleep(0.12)\n",
    "\n",
    "delay_print(\"hello world\")"
   ]
  },
  {
   "cell_type": "code",
   "execution_count": 29,
   "id": "180e3d97",
   "metadata": {},
   "outputs": [
    {
     "name": "stdout",
     "output_type": "stream",
     "text": [
      "As an AI language model, I do not have personal opinions or beliefs. However, I can provide information and generate responses based on the data and knowledge that I have been trained on. Is there a specific topic or theme that you would like more information about?"
     ]
    }
   ],
   "source": [
    "for c in response.choices[0].message.content:\n",
    "    sys.stdout.write(c)\n",
    "    sys.stdout.flush()\n",
    "    time.sleep(0.05)"
   ]
  },
  {
   "cell_type": "code",
   "execution_count": 33,
   "id": "aecb5f72",
   "metadata": {},
   "outputs": [
    {
     "name": "stdout",
     "output_type": "stream",
     "text": [
      "\n",
      "That wonderfull tale just costed you: 0.00018 US dollars\n"
     ]
    }
   ],
   "source": [
    "print(f'\\nThat wonderfull tale just costed you: '+str(round(int(response.usage.total_tokens)*0.002/1000,5))+' US dollars')"
   ]
  },
  {
   "cell_type": "code",
   "execution_count": null,
   "id": "880b8582",
   "metadata": {},
   "outputs": [],
   "source": []
  }
 ],
 "metadata": {
  "kernelspec": {
   "display_name": "base",
   "language": "python",
   "name": "python3"
  },
  "language_info": {
   "codemirror_mode": {
    "name": "ipython",
    "version": 3
   },
   "file_extension": ".py",
   "mimetype": "text/x-python",
   "name": "python",
   "nbconvert_exporter": "python",
   "pygments_lexer": "ipython3",
   "version": "3.9.12"
  },
  "vscode": {
   "interpreter": {
    "hash": "40d3a090f54c6569ab1632332b64b2c03c39dcf918b08424e98f38b5ae0af88f"
   }
  }
 },
 "nbformat": 4,
 "nbformat_minor": 5
}
